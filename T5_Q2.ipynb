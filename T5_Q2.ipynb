{
  "nbformat": 4,
  "nbformat_minor": 0,
  "metadata": {
    "colab": {
      "provenance": []
    },
    "kernelspec": {
      "name": "python3",
      "display_name": "Python 3"
    },
    "language_info": {
      "name": "python"
    }
  },
  "cells": [
    {
      "cell_type": "code",
      "source": [
        "import numpy as np\n",
        "from numpy.linalg import inv\n",
        "import pandas as pd\n",
        "import matplotlib.pyplot as plt"
      ],
      "metadata": {
        "id": "gQC_DEyZIYpP"
      },
      "execution_count": null,
      "outputs": []
    },
    {
      "cell_type": "markdown",
      "source": [
        "Q2 a) without bias"
      ],
      "metadata": {
        "id": "mSUG6nAoI5m3"
      }
    },
    {
      "cell_type": "code",
      "execution_count": null,
      "metadata": {
        "id": "hUO9-p0T4Mwq"
      },
      "outputs": [],
      "source": [
        "x=np.array([[1,0,1],[2,-1,1],[1,1,5]])\n",
        "y=np.array([[1],[2],[3]])\n",
        "\n",
        "w= inv(x) @ y\n",
        "#print(w)\n",
        "\n",
        "#predicting for {𝑥1 = −1, 𝑥2 = 2, 𝑥3 = 8} → {𝑦 =? }\n",
        "#               {𝑥1 = 1, 𝑥2 = 5, 𝑥3 = −1} → {𝑦 =? }\n",
        "\n",
        "xt=np.array([[-1,2,8],[1,5,-1]])\n",
        "yt= xt @ w\n",
        "\n",
        "#print the predicted output\n",
        "print(yt)\n"
      ]
    },
    {
      "cell_type": "markdown",
      "source": [
        "Q2 b) after adding bias"
      ],
      "metadata": {
        "id": "1sXQe6UQK0Y7"
      }
    },
    {
      "cell_type": "code",
      "source": [
        "# after adding bias it  becomes an underdetermined system\n",
        "# w= x.T @ inv(x @ x.T)  @ y\n",
        "\n",
        "x_new=np.array([[1,1,0,1],[1,2,-1,1],[1,1,1,5]])\n",
        "y=np.array([[1],[2],[3]])\n",
        "\n",
        "w= x_new.T @ inv(x_new @ x_new.T) @ y\n",
        "print(w)\n",
        "\n",
        "xt=np.array([[1,-1,2,8],[1,1,5,-1]])  #notice the bias term\n",
        "yt=xt @ w\n",
        "\n",
        "print(\"\\nThe final prediction with bias:\\n\",yt)"
      ],
      "metadata": {
        "id": "_DoXWSp2Kz2e"
      },
      "execution_count": null,
      "outputs": []
    }
  ]
}