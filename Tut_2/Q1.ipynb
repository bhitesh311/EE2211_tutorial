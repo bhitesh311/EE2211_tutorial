{
 "cells": [
  {
   "cell_type": "code",
   "execution_count": 1,
   "id": "467863a0-99bd-4824-a3ad-77ec909f0e91",
   "metadata": {},
   "outputs": [],
   "source": [
    "import pandas as pd\n",
    "import matplotlib.pyplot as plt"
   ]
  },
  {
   "cell_type": "code",
   "execution_count": null,
   "id": "06efc701-3c71-4c10-a79b-f1b901b1a629",
   "metadata": {},
   "outputs": [],
   "source": [
    "df=pd.read_csv(\"GovernmentExpenditureonEducation000SGD.csv\")\n",
    "print(df)"
   ]
  },
  {
   "cell_type": "code",
   "execution_count": 3,
   "id": "167721a7-9193-440c-9b4c-7ceb56238044",
   "metadata": {},
   "outputs": [
    {
     "name": "stdout",
     "output_type": "stream",
     "text": [
      "[1981, 1982, 1983, 1984, 1985, 1986, 1987, 1988, 1989, 1990, 1991, 1992, 1993, 1994, 1995, 1996, 1997, 1998, 1999, 2000, 2001, 2002, 2003, 2004, 2005, 2006, 2007, 2008, 2009, 2010, 2011, 2012, 2013, 2014, 2015, 2016, 2017, 2018, 2019, 2020, 2021, 2022]\n"
     ]
    }
   ],
   "source": [
    "expenditure= df ['total_expenditure_on_education'].tolist()\n",
    "year = df ['year'].tolist()\n",
    "print(year)"
   ]
  },
  {
   "cell_type": "code",
   "execution_count": null,
   "id": "49c7372d-2e2e-4080-b2ca-6a3d3cc878ac",
   "metadata": {},
   "outputs": [],
   "source": [
    "plt.plot(year,expenditure) #plt.plot(X-axis,Y-axis)\n",
    "plt.xlabel('Year') \n",
    "plt.ylabel('Expenditure')\n",
    "plt.title('Education expenditure')\n",
    "plt.show()"
   ]
  },
  {
   "cell_type": "code",
   "execution_count": null,
   "id": "45d265db-a35f-4c78-8617-d047c194a75d",
   "metadata": {},
   "outputs": [],
   "source": []
  }
 ],
 "metadata": {
  "kernelspec": {
   "display_name": "Python 3 (ipykernel)",
   "language": "python",
   "name": "python3"
  },
  "language_info": {
   "codemirror_mode": {
    "name": "ipython",
    "version": 3
   },
   "file_extension": ".py",
   "mimetype": "text/x-python",
   "name": "python",
   "nbconvert_exporter": "python",
   "pygments_lexer": "ipython3",
   "version": "3.8.20"
  }
 },
 "nbformat": 4,
 "nbformat_minor": 5
}
