{
 "cells": [
  {
   "cell_type": "code",
   "execution_count": 1,
   "id": "16fa04e5-a030-47d8-a79d-6d06a5712da2",
   "metadata": {},
   "outputs": [],
   "source": [
    "import pandas as pd \n",
    "import matplotlib.pyplot as plt"
   ]
  },
  {
   "cell_type": "code",
   "execution_count": null,
   "id": "5becfb4d-1f68-4743-9523-62f38511e687",
   "metadata": {},
   "outputs": [],
   "source": [
    "df = pd.read_csv(\"vehicle_data.csv\")\n",
    "print(df)"
   ]
  },
  {
   "cell_type": "code",
   "execution_count": null,
   "id": "03435b67-9659-4001-aca7-40dbbe1284dc",
   "metadata": {},
   "outputs": [],
   "source": [
    "year= df ['year'].tolist()\n",
    "category= df ['category'].tolist()\n",
    "types= df ['type'].tolist()\n",
    "number= df ['number'].tolist()\n",
    "print(category)\n",
    "print(number)"
   ]
  },
  {
   "cell_type": "code",
   "execution_count": null,
   "id": "18701568-ceea-4c71-a659-92e82863e3ec",
   "metadata": {},
   "outputs": [],
   "source": [
    "val1 = df.loc[df['type']=='Omnibuses'].index #.loc is for label based indexing & .index is for storing the index\n",
    "val2 = df.loc[df['type']=='Excursion buses'].index\n",
    "val3 = df.loc[df['type']=='Private buses'].index\n",
    "print(val3)"
   ]
  },
  {
   "cell_type": "code",
   "execution_count": null,
   "id": "8f8524c4-beb9-4f67-8ea2-68a61a1db291",
   "metadata": {},
   "outputs": [],
   "source": [
    "List1 = df.loc[val1]  \n",
    "List2 = df.loc[val2] \n",
    "List3 = df.loc[val3] \n",
    "print(List3)\n"
   ]
  },
  {
   "cell_type": "code",
   "execution_count": null,
   "id": "cc5f09a9-eed3-4410-b099-6f7d35ea9007",
   "metadata": {},
   "outputs": [],
   "source": [
    "plt.plot(List1['year'], List1['number'], label = 'Number of Omnibuses') \n",
    "plt.plot(List2['year'], List2['number'], label = 'Number of Excursion buses') \n",
    "plt.plot(List3['year'], List3['number'], label = 'Number of Private buses') \n",
    "plt.xlabel('Year') \n",
    "plt.ylabel('Number of vehicles')\n",
    "plt.legend() \n",
    "plt.show()"
   ]
  },
  {
   "cell_type": "code",
   "execution_count": null,
   "id": "16614d3f-e781-4a95-8ddd-bc865a965499",
   "metadata": {},
   "outputs": [],
   "source": []
  }
 ],
 "metadata": {
  "kernelspec": {
   "display_name": "Python 3 (ipykernel)",
   "language": "python",
   "name": "python3"
  },
  "language_info": {
   "codemirror_mode": {
    "name": "ipython",
    "version": 3
   },
   "file_extension": ".py",
   "mimetype": "text/x-python",
   "name": "python",
   "nbconvert_exporter": "python",
   "pygments_lexer": "ipython3",
   "version": "3.8.20"
  }
 },
 "nbformat": 4,
 "nbformat_minor": 5
}
