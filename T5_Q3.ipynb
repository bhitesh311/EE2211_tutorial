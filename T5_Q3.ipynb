{
  "nbformat": 4,
  "nbformat_minor": 0,
  "metadata": {
    "colab": {
      "provenance": []
    },
    "kernelspec": {
      "name": "python3",
      "display_name": "Python 3"
    },
    "language_info": {
      "name": "python"
    }
  },
  "cells": [
    {
      "cell_type": "code",
      "execution_count": null,
      "metadata": {
        "id": "5rjj2znyhPGF"
      },
      "outputs": [],
      "source": [
        "import numpy as np\n",
        "import matplotlib.pyplot as plt\n",
        "from numpy.linalg import inv\n"
      ]
    },
    {
      "cell_type": "code",
      "source": [
        "x=np.array([[36],[28],[35],[39],[30],[30],[31],[38],[36],[38],[29],[26]])\n",
        "y=np.array([[31],[29],[34],[35],[29],[30],[30],[38],[34],[33],[29],[26]])\n",
        "\n",
        "plt.plot(x,y,'ro')\n",
        "plt.show()"
      ],
      "metadata": {
        "id": "MBEFBH9whbuh"
      },
      "execution_count": null,
      "outputs": []
    },
    {
      "cell_type": "markdown",
      "source": [
        "Q3 b)"
      ],
      "metadata": {
        "id": "8d6VGWt4mk_W"
      }
    },
    {
      "cell_type": "code",
      "source": [
        "#for regression\n",
        "x_new=np.array([[1,36],[1,28],[1,35],[1,39],[1,30],[1,30],[1,31],[1,38],[1,36],[1,38],[1,29],[1,26]])\n",
        "y=np.array([[31],[29],[34],[35],[29],[30],[30],[38],[34],[33],[29],[26]])\n",
        "\n",
        "\n",
        "#after adding bias it becomes an overdetermined system\n",
        "\n",
        "w = inv(x_new.T @ x_new) @ x_new.T @ y  # calculating the coefficients required\n",
        "print(w)\n",
        "\n",
        "#x_line=np.linspace(20,50,200)\n",
        "#y_line=w[0]+w[1]*x_line\n",
        "y_line = x_new @ w\n",
        "\n",
        "plt.plot(x,y_line,label='Linear regression')\n",
        "plt.plot(x,y,'ro',label='training samples')\n",
        "plt.legend()\n",
        "plt.grid(True)\n",
        "plt.show()\n"
      ],
      "metadata": {
        "id": "bwYBFvgRj1Af"
      },
      "execution_count": null,
      "outputs": []
    },
    {
      "cell_type": "markdown",
      "source": [
        "Q3 c) prediction when 30 students have registered"
      ],
      "metadata": {
        "id": "tVQ5O4oMmLVH"
      }
    },
    {
      "cell_type": "code",
      "source": [
        "x=np.array([1,30])\n",
        "yt=x@w\n",
        "\n",
        "print(yt)"
      ],
      "metadata": {
        "id": "hARjS58sl8gu"
      },
      "execution_count": null,
      "outputs": []
    },
    {
      "cell_type": "markdown",
      "source": [
        "Q3 d) prediction when 5 students have registered"
      ],
      "metadata": {
        "id": "jP8bfYwkms2v"
      }
    },
    {
      "cell_type": "code",
      "source": [
        "x=np.array([1,5])\n",
        "yt=x@w\n",
        "\n",
        "print(yt)"
      ],
      "metadata": {
        "id": "iTl5i8kUmxoX"
      },
      "execution_count": null,
      "outputs": []
    }
  ]
}