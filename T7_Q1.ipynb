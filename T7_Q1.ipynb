{
  "nbformat": 4,
  "nbformat_minor": 0,
  "metadata": {
    "colab": {
      "provenance": []
    },
    "kernelspec": {
      "name": "python3",
      "display_name": "Python 3"
    },
    "language_info": {
      "name": "python"
    }
  },
  "cells": [
    {
      "cell_type": "code",
      "execution_count": null,
      "metadata": {
        "id": "FZGLan2twdHs"
      },
      "outputs": [],
      "source": [
        "import numpy as np"
      ]
    },
    {
      "cell_type": "code",
      "source": [
        "f1=[0.3510,2.1812,0.2415,-0.1096,0.1544]\n",
        "f2=[1.1796,2.1068,1.7753,1.2747,2.0851]\n",
        "f3=[-0.9852,1.3766,-1.3244,-0.6316,-0.8320]\n",
        "y=[0.2758,1.4392,-0.4611,0.6154,1.0006]"
      ],
      "metadata": {
        "id": "1dK3efHVwyvC"
      },
      "execution_count": null,
      "outputs": []
    },
    {
      "cell_type": "code",
      "source": [
        "u1=np.mean(f1)\n",
        "u2=np.mean(f2)\n",
        "u3=np.mean(f3)\n",
        "uy=np.mean(y)\n",
        "\n",
        "#print(u1,u2,u3,uy)"
      ],
      "metadata": {
        "id": "j07jedBkxjMH"
      },
      "execution_count": null,
      "outputs": []
    },
    {
      "cell_type": "code",
      "source": [
        "sig1=np.std(f1)\n",
        "sig2=np.std(f2)\n",
        "sig3=np.std(f3)\n",
        "sigY=np.std(y)\n",
        "\n",
        "print(sig1,sig2,sig3,sigY)"
      ],
      "metadata": {
        "id": "Dxi_3x-TyE9m"
      },
      "execution_count": null,
      "outputs": []
    },
    {
      "cell_type": "code",
      "source": [
        "cov_matrix = np.cov(f1, y, bias=True)  # Population covariance\n",
        "cov_val_1 = cov_matrix[0, 1]  # Extract covariance value\n",
        "print(cov_val_1)\n",
        "\n",
        "cov_matrix = np.cov(f2, y, bias=True)  # Population covariance\n",
        "cov_val_2 = cov_matrix[0, 1]  # Extract covariance value\n",
        "print(cov_val_2)\n",
        "\n",
        "cov_matrix = np.cov(f3, y, bias=True)  # Population covariance\n",
        "cov_val_3 = cov_matrix[0, 1]  # Extract covariance value\n",
        "print(cov_val_3)"
      ],
      "metadata": {
        "id": "tRsf_RIO00Vo"
      },
      "execution_count": null,
      "outputs": []
    },
    {
      "cell_type": "code",
      "source": [
        "r1=cov_val_1/(sig1*sigY)\n",
        "r2=cov_val_2/(sig2*sigY)\n",
        "r3=cov_val_3/(sig3*sigY)\n",
        "\n",
        "print(r1,r2,r3)\n"
      ],
      "metadata": {
        "id": "kNp3c8LFy7IH"
      },
      "execution_count": null,
      "outputs": []
    }
  ]
}