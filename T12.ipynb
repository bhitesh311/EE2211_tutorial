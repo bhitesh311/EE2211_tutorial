{
  "nbformat": 4,
  "nbformat_minor": 0,
  "metadata": {
    "colab": {
      "provenance": []
    },
    "kernelspec": {
      "name": "python3",
      "display_name": "Python 3"
    },
    "language_info": {
      "name": "python"
    }
  },
  "cells": [
    {
      "cell_type": "code",
      "source": [
        "import numpy as np"
      ],
      "metadata": {
        "id": "0M9kIFXaPcgP"
      },
      "execution_count": null,
      "outputs": []
    },
    {
      "cell_type": "code",
      "execution_count": null,
      "metadata": {
        "id": "vW5W3KwVPVUW"
      },
      "outputs": [],
      "source": [
        "#Q3\n",
        "X=np.array([[1.0,1.0,3.0],[1.0,2.0,2.5]])\n",
        "W1=np.array([[-1, 0, 1],\n",
        "             [0, -1, 0],\n",
        "             [1, 0, 1]])\n",
        "\n",
        "fx1=np.dot(X,W1)\n",
        "print(fx1)\n",
        "\n",
        "fx1_relu=np.maximum(fx1,0)\n",
        "print(fx1_relu)  #layer 1 output\n",
        "\n",
        "W2=W1\n",
        "fx2=fx1_relu@W2\n",
        "print(fx2)\n",
        "\n",
        "#for the 2nd layer i.e last layer in this case still needs activation.\n",
        "\n",
        "fx2_relu=np.maximum(fx2,0)\n",
        "print(fx2_relu)  #layer 1 output"
      ]
    },
    {
      "cell_type": "code",
      "source": [
        "#Q4\n",
        "x=np.array([[1,2,1],[1,5,1]])\n",
        "w1=np.array([[-1,0,1],[0,-1,0],[1,0,-1]])\n",
        "w2=np.array([[-1,0,1],[0,-1,0],[1,0,-1],[1,-1,1]])\n",
        "w3=w2\n",
        "\n",
        "fx1=np.dot(x,w1)\n",
        "#print(fx1)\n",
        "\n",
        "#applying sigmoid\n",
        "fx1_sigmoid=1/(1+np.exp(-fx1))\n",
        "print(fx1_sigmoid)\n",
        "\n",
        "new_column_1 = np.ones((fx1_sigmoid.shape[0], 1))\n",
        "fx1_sigmoid_out = np.concatenate((new_column_1, fx1_sigmoid), axis=1)\n",
        "print(fx1_sigmoid_out)\n",
        "\n",
        "\n",
        "fx2=np.dot(fx1_sigmoid_out,w2)\n",
        "#print(fx2)\n",
        "\n",
        "#applying sigmoid\n",
        "fx2_sigmoid=1/(1+np.exp(-fx2))\n",
        "print(fx2_sigmoid)\n",
        "\n",
        "new_column_2 = np.ones((fx2_sigmoid.shape[0], 1))\n",
        "fx2_sigmoid_out = np.concatenate((new_column_2, fx2_sigmoid), axis=1) #adding the bias  term\n",
        "\n",
        "fx3=np.dot(fx2_sigmoid_out,w3)\n",
        "print(fx3)\n",
        "\n",
        "#applying sigmoid activation\n",
        "fx3_sigmoid=1/(1+np.exp(-fx3))\n",
        "print(fx3_sigmoid)"
      ],
      "metadata": {
        "id": "pnNaCf9IXBO2"
      },
      "execution_count": null,
      "outputs": []
    }
  ]
}