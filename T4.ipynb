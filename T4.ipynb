{
  "nbformat": 4,
  "nbformat_minor": 0,
  "metadata": {
    "colab": {
      "provenance": []
    },
    "kernelspec": {
      "name": "python3",
      "display_name": "Python 3"
    },
    "language_info": {
      "name": "python"
    }
  },
  "cells": [
    {
      "cell_type": "markdown",
      "source": [
        "Q1"
      ],
      "metadata": {
        "id": "T_3Z4j1pcMvz"
      }
    },
    {
      "cell_type": "code",
      "execution_count": null,
      "metadata": {
        "id": "4_G6fBR9cDHX"
      },
      "outputs": [],
      "source": [
        "import numpy as np\n",
        "m_list = [[1, 1], [3, 4]]\n",
        "X = np.array(m_list)\n",
        "inv_X = np.linalg.inv(X)\n",
        "y = np.array([0, 1])\n",
        "w = inv_X.dot(y)\n",
        "print(w)"
      ]
    },
    {
      "cell_type": "markdown",
      "source": [
        "Q3"
      ],
      "metadata": {
        "id": "bL0xv-rvcdtO"
      }
    },
    {
      "cell_type": "code",
      "source": [
        "# import numpy as np\n",
        "# m_list = [[1, 2], [2, 4], [1, -1]]\n",
        "# X = np.array(m_list)\n",
        "# inv_XTX = np.linalg.inv(X.transpose().dot(X))\n",
        "# pinv = inv_XTX.dot(X.transpose())\n",
        "# y = np.array([0, 0.1, 1])\n",
        "# w = pinv.dot(y)\n",
        "# print(w)\n",
        "\n",
        "import numpy as np\n",
        "from numpy.linalg import inv\n",
        "from numpy.linalg import det\n",
        "\n",
        "X = np.array([[1, 2], [2, 4], [1, -1]])\n",
        "xtx_det=det(X.T @ X) #left inverse\n",
        "print(xtx_det)\n",
        "y = np.array([0, 0.1, 1])\n",
        "w = inv(X.T @ X) @ X.T @ y\n",
        "print(w)"
      ],
      "metadata": {
        "id": "kggZVdoScee8"
      },
      "execution_count": null,
      "outputs": []
    },
    {
      "cell_type": "markdown",
      "source": [
        "Q4"
      ],
      "metadata": {
        "id": "KYlohD2LehWB"
      }
    },
    {
      "cell_type": "code",
      "source": [
        "import numpy as np\n",
        "from numpy.linalg import inv\n",
        "from numpy.linalg import det\n",
        "\n",
        "X = np.array([[1, 0, 1, 0], [1, -1, 1, -1], [1, 1, 0, 0]])\n",
        "y = np.array([1, 0, 1])\n",
        "xxt_det=det(X @ X.T)  #right inverse\n",
        "print(xxt_det)\n",
        "w = X.T @ inv(X @ X.T) @ y\n",
        "print(w)"
      ],
      "metadata": {
        "id": "uAYfJN7cejUv"
      },
      "execution_count": null,
      "outputs": []
    },
    {
      "cell_type": "markdown",
      "source": [
        "Q6"
      ],
      "metadata": {
        "id": "zrxKinejmAJt"
      }
    },
    {
      "cell_type": "code",
      "source": [
        "import numpy as np\n",
        "from numpy.linalg import inv\n",
        "from numpy.linalg import det\n",
        "#from numpy.ndarray import ndim\n",
        "\n",
        "\n",
        "\n",
        "#xtx_det=det(X.T @ X)\n",
        "#print(xtx_det)\n",
        "\n",
        "#wt = y.T @ inv(X.T @ X) @ X.T\n",
        "#print(wt)\n",
        "#print(wt.shape)\n",
        "\n",
        "#alternate approach\n",
        "\n",
        "X = np.array([[1, 2], [2, 4], [1, -1]])\n",
        "y = np.array([0, 1])\n",
        "M = X.T\n",
        "det_val=det(M @ M.T)\n",
        "print(det_val)\n",
        "RI= M.T @ inv(M @ M.T)\n",
        "#print(RI)\n",
        "w = RI @ y\n",
        "print(w)\n",
        "print(w.shape)"
      ],
      "metadata": {
        "id": "4Q9U1tnPmBSR"
      },
      "execution_count": null,
      "outputs": []
    },
    {
      "cell_type": "markdown",
      "source": [
        "Q7"
      ],
      "metadata": {
        "id": "_j1ZOR8ijXSW"
      }
    },
    {
      "cell_type": "code",
      "source": [
        "import numpy as np\n",
        "from numpy.linalg import inv\n",
        "from numpy.linalg import det\n",
        "X = np.array([[2, 0, 0], [0, 0, 1]])\n",
        "xtx_det=det(X.T @ X) #left inverse\n",
        "print(xtx_det)"
      ],
      "metadata": {
        "id": "gQlSDyP8jX7x"
      },
      "execution_count": null,
      "outputs": []
    },
    {
      "cell_type": "markdown",
      "source": [
        "Q8\n"
      ],
      "metadata": {
        "id": "GysNwZIXi5bo"
      }
    },
    {
      "cell_type": "code",
      "source": [
        "import numpy as np\n",
        "from numpy.linalg import inv\n",
        "from numpy.linalg import det\n",
        "X = np.array([[1, 2, 3], [4, 5, 6]])\n",
        "xxt_det=det(X @ X.T)  #right inverse\n",
        "print(xxt_det)\n",
        "xtx_det=det(X.T @ X) #left inverse\n",
        "print(xtx_det)"
      ],
      "metadata": {
        "id": "MJtmULKui70B"
      },
      "execution_count": null,
      "outputs": []
    },
    {
      "cell_type": "code",
      "source": [],
      "metadata": {
        "id": "wLysUMZG8W1o"
      },
      "execution_count": null,
      "outputs": []
    }
  ]
}