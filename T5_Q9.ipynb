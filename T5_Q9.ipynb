{
 "cells": [
  {
   "cell_type": "code",
   "execution_count": 1,
   "id": "ecdc71ba-5bd3-49ba-8d80-70aa974eb2e5",
   "metadata": {},
   "outputs": [],
   "source": [
    "import numpy as np\n",
    "from numpy.linalg import inv"
   ]
  },
  {
   "cell_type": "code",
   "execution_count": 2,
   "id": "ce8dd542-d739-4c03-99fd-b50070d1c402",
   "metadata": {},
   "outputs": [],
   "source": [
    "X = np.array([[1, 3, -1, 0], [1, 5, 1, 2], [1, 9, -1, 3], [1, -6, 7, 2], [1, 3, -2, 0]])\n",
    "Y = np.array([[1, -1], [-1, 0], [1, 2], [0, 3], [1, -2]])"
   ]
  },
  {
   "cell_type": "code",
   "execution_count": 4,
   "id": "7185db77-9510-4a81-8ea9-291984591274",
   "metadata": {},
   "outputs": [
    {
     "name": "stdout",
     "output_type": "stream",
     "text": [
      "[[ 1.14668974 -0.95997404]\n",
      " [-0.630463   -0.33427088]\n",
      " [-1.10601471 -0.24426655]\n",
      " [ 1.3595846   1.77953267]]\n",
      "The prediction is: [-1.17784509 -0.07507572]\n"
     ]
    }
   ],
   "source": [
    "W = inv(X.T @ X) @ X.T @ Y\n",
    "print(W)\n",
    "newX=np.array([1, 8, 0, 2])\n",
    "newY=newX@W\n",
    "print('The prediction is:',newY)"
   ]
  },
  {
   "cell_type": "code",
   "execution_count": null,
   "id": "79c4d093-2057-454e-876b-745125ea1d69",
   "metadata": {},
   "outputs": [],
   "source": []
  }
 ],
 "metadata": {
  "kernelspec": {
   "display_name": "Python 3 (ipykernel)",
   "language": "python",
   "name": "python3"
  },
  "language_info": {
   "codemirror_mode": {
    "name": "ipython",
    "version": 3
   },
   "file_extension": ".py",
   "mimetype": "text/x-python",
   "name": "python",
   "nbconvert_exporter": "python",
   "pygments_lexer": "ipython3",
   "version": "3.8.20"
  }
 },
 "nbformat": 4,
 "nbformat_minor": 5
}
