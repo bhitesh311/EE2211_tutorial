{
  "nbformat": 4,
  "nbformat_minor": 0,
  "metadata": {
    "colab": {
      "provenance": []
    },
    "kernelspec": {
      "name": "python3",
      "display_name": "Python 3"
    },
    "language_info": {
      "name": "python"
    }
  },
  "cells": [
    {
      "cell_type": "code",
      "execution_count": null,
      "metadata": {
        "id": "xFlCqzXlog7o"
      },
      "outputs": [],
      "source": [
        "import numpy as np\n",
        "import matplotlib.pyplot as plt\n",
        "from numpy.linalg import inv"
      ]
    },
    {
      "cell_type": "markdown",
      "source": [
        "Q4 a) b) calculating regression coefficients"
      ],
      "metadata": {
        "id": "48X3GXDipDX-"
      }
    },
    {
      "cell_type": "code",
      "source": [
        "x=np.array([[36],[26],[35],[39],[26],[30],[31],[38],[36],[38],[26],[26]])\n",
        "y=np.array([[31],[20],[34],[35],[20],[30],[30],[38],[34],[33],[20],[20]])\n",
        "x_new=np.array([[1,36],[1,26],[1,35],[1,39],[1,26],[1,30],[1,31],[1,38],[1,36],[1,38],[1,26],[1,26]])\n",
        "\n",
        "#after adding bias it becomes an overdetermined system\n",
        "\n",
        "w = inv(x_new.T @ x_new) @ x_new.T @ y  # calculating the coefficients required\n",
        "print(w)\n",
        "\n",
        "#prediction for 30 students\n",
        "xt=np.array([[1,30]])\n",
        "\n",
        "yt=xt @ w\n",
        "print(yt)"
      ],
      "metadata": {
        "id": "Y10hiF1AopRh"
      },
      "execution_count": null,
      "outputs": []
    },
    {
      "cell_type": "markdown",
      "source": [
        "Q4 c) Purging and refitting"
      ],
      "metadata": {
        "id": "CD4jD8GlmBM-"
      }
    },
    {
      "cell_type": "code",
      "source": [
        "#first remove the redundant data\n",
        "x_purge=np.array([[36],[35],[39],[30],[31],[38],[36],[38],[26]])\n",
        "y_purge=np.array([[31],[34],[35],[30],[30],[38],[34],[33],[20]])\n",
        "\n",
        "x_purge_new=np.array([[1,36],[1,35],[1,39],[1,30],[1,31],[1,38],[1,36],[1,38],[1,26]])\n",
        "\n",
        "#after adding bias it becomes an overdetermined system\n",
        "w_purge = inv(x_purge_new.T @ x_purge_new) @ x_purge_new.T @ y_purge  # calculating the coefficients required\n",
        "print(w_purge)\n",
        "\n",
        "#prediction for 30 students\n",
        "xt=np.array([[1,30]])\n",
        "\n",
        "yt=xt @ w_purge\n",
        "print(yt)\n"
      ],
      "metadata": {
        "id": "J0NhuMa-mFpB"
      },
      "execution_count": null,
      "outputs": []
    },
    {
      "cell_type": "markdown",
      "source": [
        "Q4 d) sketching and fitting the two lines"
      ],
      "metadata": {
        "id": "taFWyeL2nXA6"
      }
    },
    {
      "cell_type": "code",
      "source": [
        "#x_line = np.linspace(20,40,100)\n",
        "#y_line_purge = w_purge[0]+ w_purge[1] * x_line #equation of the purged line\n",
        "#y_line = w[0]+ w[1] * x_line #equation of the original linear regression\n",
        "\n",
        "y_line_purge = x_purge_new @ w_purge #the matrix 'x' must also include the bias\n",
        "y_line = x_new @ w\n",
        "\n",
        "\n",
        "plt.plot(x_purge,y_line_purge,color='red',label='linear regression and purging')\n",
        "plt.plot(x,y_line,color='green',label='linear regression using all samples')\n",
        "plt.scatter(x,y,label='training samples')\n",
        "plt.legend()\n",
        "plt.grid(True)\n",
        "plt.show()\n"
      ],
      "metadata": {
        "id": "xEHCbQgRnWjm"
      },
      "execution_count": null,
      "outputs": []
    }
  ]
}