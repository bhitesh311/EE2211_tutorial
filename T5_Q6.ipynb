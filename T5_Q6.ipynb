{
 "cells": [
  {
   "cell_type": "code",
   "execution_count": 2,
   "id": "0eecf973-1743-435d-b725-1cef363b020b",
   "metadata": {},
   "outputs": [],
   "source": [
    "import pandas as pd\n",
    "import matplotlib.pyplot as plt\n",
    "import numpy as np\n",
    "from numpy.linalg import inv\n",
    "from sklearn.metrics import mean_squared_error"
   ]
  },
  {
   "cell_type": "code",
   "execution_count": null,
   "id": "27187c72-a9bc-4fdb-8c69-501cf9005fd9",
   "metadata": {},
   "outputs": [],
   "source": [
    "wine = pd.read_csv(\"https://archive.ics.uci.edu/ml/machine-learning-databases/wine-quality/winequality-red.csv\",sep=';')\n",
    "wine.info() #provides concise info of the csv file\n",
    "y = wine.quality\n",
    "x = wine.drop('quality',axis = 1)\n",
    "\n",
    "print(x)\n",
    "#print(y)"
   ]
  },
  {
   "cell_type": "code",
   "execution_count": 4,
   "id": "20dc45b2-b375-45cf-8eae-dd085846f4f9",
   "metadata": {},
   "outputs": [
    {
     "name": "stdout",
     "output_type": "stream",
     "text": [
      "\n",
      "Printing the learned parameters \n",
      " [ 2.22330327e+01  2.68702621e-02 -1.12838019e+00 -2.06141685e-01\n",
      "  1.22000584e-02 -1.77718503e+00  4.29357454e-03 -3.18953315e-03\n",
      " -1.81795124e+01 -3.98142390e-01  8.92474793e-01  2.77147239e-01]\n",
      "\n",
      "Printing mean squared error:  0.34352638121356655\n"
     ]
    }
   ],
   "source": [
    "## Include the offset/bias term\n",
    "x0 = np.ones((len(y),1)) #create a column vector of same length as y\n",
    "X = np.hstack((x0,x)) \n",
    "#print(x0)\n",
    "#print(X)\n",
    "\n",
    "# split data into training and test sets\n",
    "## In case you really want a general random split to have a better training/test distributions:\n",
    "## from sklearn.model_selection import train_test_split\n",
    "## train_X,test_X,train_y,test_y = train_test_split(X,y,test_size=99/1599, random_state = 0)\n",
    "\n",
    "train_X = X[0:1500]\n",
    "train_y = y[0:1500]\n",
    "test_X = X[1500:1599]\n",
    "test_y = y[1500:1599]\n",
    "\n",
    "## linear regression\n",
    "w = inv(train_X.T @ train_X) @ train_X.T @ train_y\n",
    "\n",
    "print('\\nPrinting the learned parameters \\n',w)\n",
    "yt_est = test_X.dot(w);\n",
    "\n",
    "MSE = mean_squared_error(test_y,yt_est)\n",
    "print('\\nPrinting mean squared error: ',MSE)\n"
   ]
  },
  {
   "cell_type": "code",
   "execution_count": null,
   "id": "242cca72-c0bc-4ae8-b325-3c95bee0b106",
   "metadata": {},
   "outputs": [],
   "source": []
  }
 ],
 "metadata": {
  "kernelspec": {
   "display_name": "Python 3 (ipykernel)",
   "language": "python",
   "name": "python3"
  },
  "language_info": {
   "codemirror_mode": {
    "name": "ipython",
    "version": 3
   },
   "file_extension": ".py",
   "mimetype": "text/x-python",
   "name": "python",
   "nbconvert_exporter": "python",
   "pygments_lexer": "ipython3",
   "version": "3.8.20"
  }
 },
 "nbformat": 4,
 "nbformat_minor": 5
}
